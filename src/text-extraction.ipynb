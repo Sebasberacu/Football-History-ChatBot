{
 "cells": [
  {
   "cell_type": "markdown",
   "metadata": {},
   "source": [
    "## **Text Extraction**\n",
    "\n",
    "Text extraction from a file with pdf extension is implemented. In addition, the extracted text is cut into 1000-character chunks with an overlap of 200 characters. The necessary steps are detailed below. "
   ]
  },
  {
   "cell_type": "markdown",
   "metadata": {},
   "source": [
    "### 1. Install the necessary libraries\n",
    "\n",
    "Necesita ejecutar en su consola el siguiente comando: `pip install pymupdf pandas`"
   ]
  },
  {
   "cell_type": "markdown",
   "metadata": {},
   "source": [
    "### 2. Import the necessary libraries\n",
    "\n",
    "We use the two libraries installed before. "
   ]
  },
  {
   "cell_type": "code",
   "execution_count": 16,
   "metadata": {},
   "outputs": [],
   "source": [
    "import fitz  # PyMuPDF\n",
    "import pandas as pd"
   ]
  },
  {
   "cell_type": "markdown",
   "metadata": {},
   "source": [
    "### 3. Create a Function to Extract Text\n",
    "\n",
    "This function open the pdf document and extract all the text page by page. "
   ]
  },
  {
   "cell_type": "code",
   "execution_count": 17,
   "metadata": {},
   "outputs": [],
   "source": [
    "def extract_text_from_pdf(pdf_path):\n",
    "    document = fitz.open(pdf_path)\n",
    "    text = \"\"\n",
    "    for page_num in range(len(document)):\n",
    "        page = document.load_page(page_num)\n",
    "        text += page.get_text()\n",
    "    return text"
   ]
  },
  {
   "cell_type": "markdown",
   "metadata": {},
   "source": [
    "### 4. Divide the Text in Chunks\n",
    "\n",
    "This function divide the text in chunks with a max size of 1000 characters. Also it adds an overlap of 200 characters. "
   ]
  },
  {
   "cell_type": "code",
   "execution_count": 18,
   "metadata": {},
   "outputs": [],
   "source": [
    "def split_text_into_segments(text, chunk_size=1000, overlap=200):\n",
    "    segments = []\n",
    "    start = 0\n",
    "    while start < len(text):\n",
    "        end = start + chunk_size\n",
    "        segment = text[start:end]\n",
    "        segments.append(segment)\n",
    "        start += chunk_size - overlap\n",
    "    return segments"
   ]
  },
  {
   "cell_type": "markdown",
   "metadata": {},
   "source": [
    "### 5. Ejemplo\n",
    "\n",
    "Por último, se muestra un ejemplo de cómo utilizar todo lo generado anteriormente. "
   ]
  },
  {
   "cell_type": "code",
   "execution_count": 19,
   "metadata": {},
   "outputs": [
    {
     "name": "stdout",
     "output_type": "stream",
     "text": [
      "                                                text\n",
      "0  Story 1\\nThe Three Little Pigs \\nBoth a short ...\n",
      "1  huffed\\nand puffed and blew it down. \\nThe sec...\n",
      "2   discussed in this lesson are underlined.\\n \\n...\n",
      "3   bad wolf huffed\\nand puffed and blew the hous...\n",
      "4  d and puffed and THE\\nHOUSE DID NOT FALL DOWN!...\n"
     ]
    }
   ],
   "source": [
    "pdf_path = '../docs-testing/three-little-pigs-story.pdf'\n",
    "\n",
    "pdf_text = extract_text_from_pdf(pdf_path)\n",
    "\n",
    "text_segments = split_text_into_segments(pdf_text)\n",
    "\n",
    "# Create a dataframe with segments just to show information\n",
    "df = pd.DataFrame(text_segments, columns=['text'])\n",
    "\n",
    "# Show the firts 5 rows. \n",
    "print(df.head())\n"
   ]
  }
 ],
 "metadata": {
  "kernelspec": {
   "display_name": "Python 3",
   "language": "python",
   "name": "python3"
  },
  "language_info": {
   "codemirror_mode": {
    "name": "ipython",
    "version": 3
   },
   "file_extension": ".py",
   "mimetype": "text/x-python",
   "name": "python",
   "nbconvert_exporter": "python",
   "pygments_lexer": "ipython3",
   "version": "3.12.2"
  }
 },
 "nbformat": 4,
 "nbformat_minor": 2
}

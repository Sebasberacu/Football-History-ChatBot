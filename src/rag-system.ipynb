{
 "cells": [
  {
   "cell_type": "markdown",
   "metadata": {},
   "source": [
    "# **RAG System Project**\n",
    "\n",
    "**Escuela de Ingeniería en Computación**\n",
    "\n",
    "**IC6200 - Inteligencia Artificial - Proyecto 1 - RAG System**\n",
    "\n",
    "**Estudiantes:**\n",
    "\n",
    "Gerald Núñez Chavarría - 2021023226\n",
    "\n",
    "Sebastián Arroniz Rojas - 2021108521\n",
    "\n",
    "Sebastián Bermúdez Acuña - 2021110666\n",
    "\n",
    "**Profesor:**\n",
    "\n",
    "Kenneth Obando Rodríguez\n",
    "\n",
    "**Fecha de entrega:**\n",
    "\n",
    "09/06/2024"
   ]
  }
 ],
 "metadata": {
  "language_info": {
   "name": "python"
  }
 },
 "nbformat": 4,
 "nbformat_minor": 2
}
